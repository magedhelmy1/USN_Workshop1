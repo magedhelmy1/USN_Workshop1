{
 "cells": [
  {
   "cell_type": "markdown",
   "id": "90bae276-36f7-4600-b91c-4886936fa38e",
   "metadata": {
    "tags": []
   },
   "source": [
    "<h1> NumPy </h1>"
   ]
  },
  {
   "cell_type": "code",
   "execution_count": null,
   "id": "04278f3d-dd56-421e-8f3c-d75860da0da1",
   "metadata": {},
   "outputs": [],
   "source": [
    "from IPython.core.interactiveshell import InteractiveShell\n",
    "InteractiveShell.ast_node_interactivity = \"all\""
   ]
  },
  {
   "cell_type": "markdown",
   "id": "829d1d95-88b2-4df3-80d4-21c2e738f9d0",
   "metadata": {
    "tags": []
   },
   "source": [
    "## Goals\n",
    "<ul>\n",
    "  <li>Understand the fundamentals of NumPy package and how it is used for manipulating arrays</li>\n",
    "</ul>"
   ]
  },
  {
   "cell_type": "markdown",
   "id": "c92ce0f2-5de6-410f-be32-df5dfe68e2f2",
   "metadata": {},
   "source": [
    "<p> What is NumPy? <p>\n",
    "<ul>\n",
    "  <li>Python library for creating N-dimensional arrays</li>\n",
    "  <li>An alternative to python lists for applying operations on data</li>\n",
    "  <li> A library where Pandas and Scikit-learn relies on</li>\n",
    "</ul>\n",
    "\n",
    "<p> Why use NumPy used over other lists? <p>\n",
    "<ul>\n",
    "  <li> Memory Efficiency of Numpy Array vs list</li>\n",
    "  <li> Easily expands to N-dimensional objects </li>\n",
    "  <li> Speed of calculations of numpy array</li>\n",
    "  <li>  Broadcasting operations and functions with numpy</li>\n",
    "</ul>\n",
    "<p> What is an Array? <p>\n",
    "<ul>\n",
    "  <li> An array is a collection of similar data elements stored at contiguous memory locations. </li>\n",
    " </ul>  \n",
    " \n",
    " <p> Shift+tab to see function document </p>"
   ]
  },
  {
   "cell_type": "markdown",
   "id": "f9f5efbe-fdc1-4220-8829-df2b162ec1af",
   "metadata": {
    "tags": [],
    "toc-hr-collapsed": true
   },
   "source": [
    "## 1. Foundational NumPy Excercise"
   ]
  },
  {
   "cell_type": "code",
   "execution_count": null,
   "id": "6259aec5-1943-47a6-90d2-9a9992118076",
   "metadata": {},
   "outputs": [],
   "source": [
    "import numpy as np"
   ]
  },
  {
   "cell_type": "code",
   "execution_count": null,
   "id": "688c2b05-de04-422f-a7d9-f22b8a6d0e5c",
   "metadata": {},
   "outputs": [],
   "source": [
    "# Create a list and a numpy array\n"
   ]
  },
  {
   "cell_type": "code",
   "execution_count": null,
   "id": "c331a2aa-76dc-4277-933d-1c9ab542b63a",
   "metadata": {},
   "outputs": [],
   "source": [
    "# Check the type of the list and numpy created\n"
   ]
  },
  {
   "cell_type": "code",
   "execution_count": null,
   "id": "05c0ef7c-6c59-4c5f-8e1d-b6f72db5ffd3",
   "metadata": {},
   "outputs": [],
   "source": [
    "# Create a matrix from a list\n"
   ]
  },
  {
   "cell_type": "code",
   "execution_count": null,
   "id": "16b07937-3e96-4daa-9dbe-67c30bb76aa3",
   "metadata": {},
   "outputs": [],
   "source": [
    "# Convert matrix to numpy array\n"
   ]
  },
  {
   "cell_type": "code",
   "execution_count": null,
   "id": "d3aa6b62-fc3b-4a34-82b1-6fbff59dd497",
   "metadata": {},
   "outputs": [],
   "source": [
    "#Speed comparison\n",
    "\n",
    "from numpy import arange\n",
    "from timeit import Timer\n",
    "\n",
    "PythonList = range(500)\n",
    "NumpyList = np.array(PythonList)\n",
    "\n",
    "t_numpy = Timer(\"NumpyList.sum()\", \"from __main__ import NumpyList\")\n",
    "t_list = Timer(\"sum(PythonList)\", \"from __main__ import PythonList\")\n",
    "\n",
    "listTime= t_numpy.timeit(Ntimeits)/Ntimeits\n",
    "numpyTime = t_list.timeit(Ntimeits)/Ntimeits\n",
    "\n",
    "print(f\"Faster: {((listTime/numpyTime)*100)}\")"
   ]
  },
  {
   "cell_type": "code",
   "execution_count": null,
   "id": "eeb87877-139c-4290-aca0-fb6552d6cbe1",
   "metadata": {},
   "outputs": [],
   "source": [
    "# create evenly distributed numbers between values 0 to 9\n"
   ]
  },
  {
   "cell_type": "code",
   "execution_count": null,
   "id": "ea387df6-9243-4e61-8b15-3d3ca89c432e",
   "metadata": {},
   "outputs": [],
   "source": [
    "# create evenly distributed numbers between values 0 to 10 with space of 2\n"
   ]
  },
  {
   "cell_type": "code",
   "execution_count": null,
   "id": "d1129a6d-b7a1-4653-a95e-0612f98d86d0",
   "metadata": {},
   "outputs": [],
   "source": [
    "# Create a numpy array with 3 zeroes\n"
   ]
  },
  {
   "cell_type": "code",
   "execution_count": null,
   "id": "38742a58-321d-4b68-9681-382c2508a4de",
   "metadata": {},
   "outputs": [],
   "source": [
    "# Create 2D matrix 5 by 5 zeroes\n"
   ]
  },
  {
   "cell_type": "code",
   "execution_count": null,
   "id": "a3c8642c-d7aa-4c3f-b6bc-7424fa2fce1f",
   "metadata": {},
   "outputs": [],
   "source": [
    "# Create 3 evenly distributed between 0 to 10 including these values\n"
   ]
  },
  {
   "cell_type": "code",
   "execution_count": null,
   "id": "accd4986-9bf2-4578-ab5c-4ae23df41219",
   "metadata": {},
   "outputs": [],
   "source": [
    "# Create an identity matrix that is 4 by 4\n"
   ]
  },
  {
   "cell_type": "markdown",
   "id": "090a5e8b-0570-47ce-baee-d53fef1bc28a",
   "metadata": {},
   "source": [
    "### 1.2 identity matrix?\n",
    "\n",
    "State of the art object detection algorithm by creating a \"Skip ConnectioN\" \n",
    "\n",
    "<img src=\"neuralNetwork.png\"/>"
   ]
  },
  {
   "cell_type": "markdown",
   "id": "28cd9e3f-0d40-469f-b740-2e80f04ae0dd",
   "metadata": {},
   "source": [
    "<img src=\"performane.png\"/>"
   ]
  },
  {
   "cell_type": "markdown",
   "id": "bc386c8f-4b81-4ab0-941a-1140672e8020",
   "metadata": {},
   "source": [
    "<img src=\"Identity.png\"/>"
   ]
  },
  {
   "cell_type": "code",
   "execution_count": null,
   "id": "b76fa1b6-97a9-47fa-95c7-d693dd91fae3",
   "metadata": {},
   "outputs": [],
   "source": [
    "# Create a 5 by 5 matrix range from 0 to 24\n"
   ]
  },
  {
   "cell_type": "code",
   "execution_count": null,
   "id": "ff3ec837-80e9-4834-861d-af9bb434d704",
   "metadata": {},
   "outputs": [],
   "source": [
    "# Get the max value in the array\n"
   ]
  },
  {
   "cell_type": "code",
   "execution_count": null,
   "id": "bdbaff32-935e-458f-90fa-a33f3b376660",
   "metadata": {},
   "outputs": [],
   "source": [
    "# Get the min value in the array\n"
   ]
  },
  {
   "cell_type": "markdown",
   "id": "47664b53-4d90-46d4-b6ed-8f6ca096a491",
   "metadata": {},
   "source": [
    "### 1.3 Exercises"
   ]
  },
  {
   "cell_type": "markdown",
   "id": "6776ecf0-5ba9-45b6-9ffd-093f9a5be71a",
   "metadata": {},
   "source": [
    "#### 1. Create a numpy array with 10 zeroes"
   ]
  },
  {
   "cell_type": "code",
   "execution_count": null,
   "id": "416bd267-c09b-4c67-adf3-33da6c906030",
   "metadata": {},
   "outputs": [],
   "source": []
  },
  {
   "cell_type": "markdown",
   "id": "b11710ee-7798-4233-9c57-d0ddeb2f921c",
   "metadata": {},
   "source": [
    "#### 2. Create a numpy array of 10 ones"
   ]
  },
  {
   "cell_type": "code",
   "execution_count": null,
   "id": "1ea91ec5-c7c3-4e54-bed5-ae1bb789ca2e",
   "metadata": {},
   "outputs": [],
   "source": []
  },
  {
   "cell_type": "markdown",
   "id": "92829165-c05c-48a5-9e8c-1469fbc06884",
   "metadata": {},
   "source": [
    "#### 3. Create a numpy array of 10 fives"
   ]
  },
  {
   "cell_type": "code",
   "execution_count": null,
   "id": "15a2f79c-833b-4e04-bc3e-c96b7b8b29cf",
   "metadata": {},
   "outputs": [],
   "source": []
  },
  {
   "cell_type": "markdown",
   "id": "c6dffc46-30de-4ba5-ae9e-5b487f50c76f",
   "metadata": {},
   "source": [
    "#### 4. Create a numpy array of the integers from 10 to 50"
   ]
  },
  {
   "cell_type": "code",
   "execution_count": null,
   "id": "d5131a28-4a98-4e66-a6d8-30450c6aa8a7",
   "metadata": {},
   "outputs": [],
   "source": []
  },
  {
   "cell_type": "markdown",
   "id": "52966423-2f1c-4b94-a983-6808a9106aea",
   "metadata": {},
   "source": [
    "#### 5. Create an array of all the even integers from 10 to 50"
   ]
  },
  {
   "cell_type": "code",
   "execution_count": null,
   "id": "42a611ff-4f1e-4505-9e59-9d6bc96ddeca",
   "metadata": {},
   "outputs": [],
   "source": []
  },
  {
   "cell_type": "markdown",
   "id": "3aedabb6-6a77-4f02-bc8a-3a723401ea8f",
   "metadata": {},
   "source": [
    "#### 6. Create a 5x4 matrix with values ranging from 0 to 20"
   ]
  },
  {
   "cell_type": "code",
   "execution_count": null,
   "id": "0f2414ba-50b1-4fad-846a-b42810277c9d",
   "metadata": {},
   "outputs": [],
   "source": []
  },
  {
   "cell_type": "markdown",
   "id": "bfa64f85-abb6-4d78-a4a4-74748560b371",
   "metadata": {},
   "source": [
    "#### 7. Create a 6x6 identity matrix"
   ]
  },
  {
   "cell_type": "code",
   "execution_count": null,
   "id": "1369d273-422e-4fa9-86bb-d06f8b8f5d9a",
   "metadata": {},
   "outputs": [],
   "source": []
  },
  {
   "cell_type": "code",
   "execution_count": null,
   "id": "306743ba-6709-49f0-a79e-d27e324f8822",
   "metadata": {},
   "outputs": [],
   "source": []
  },
  {
   "cell_type": "markdown",
   "id": "d79d6d71-3547-45cc-82b4-28bfc1ac1c77",
   "metadata": {},
   "source": [
    "#### 8. Create an array of 50 linearly spaced points between 0 and 1:"
   ]
  },
  {
   "cell_type": "code",
   "execution_count": null,
   "id": "e2485ad8-9c40-44dd-9334-a48167eaddeb",
   "metadata": {},
   "outputs": [],
   "source": []
  },
  {
   "cell_type": "markdown",
   "id": "da90d43f-3748-43fe-a4e6-83f3de3835b4",
   "metadata": {
    "toc-hr-collapsed": true
   },
   "source": [
    "## 2. NumPy Indexing and Selection\n",
    "\n",
    "In this section we will discuss how to select elements or groups of elements from an array.\n",
    "##¤ 2.1 NumPy Indexing and Selection\n",
    "\n"
   ]
  },
  {
   "cell_type": "markdown",
   "id": "183f3767-d6ec-42de-aeee-0b52442fcf3e",
   "metadata": {},
   "source": [
    "<img src=\"numpy.png\"/>"
   ]
  },
  {
   "cell_type": "code",
   "execution_count": null,
   "id": "6a7c392d-b20c-436c-a949-f0dec74ebf3e",
   "metadata": {},
   "outputs": [],
   "source": [
    "#Creating sample array\n",
    "arr = np.arange(0,11)"
   ]
  },
  {
   "cell_type": "code",
   "execution_count": null,
   "id": "83a0671c-73bc-4da9-8437-ad7b3e482497",
   "metadata": {},
   "outputs": [],
   "source": [
    "# Get the value of the second number in the array\n",
    "\n"
   ]
  },
  {
   "cell_type": "code",
   "execution_count": null,
   "id": "e89b6c23-8ed6-4712-a67d-f1e06289d725",
   "metadata": {},
   "outputs": [],
   "source": [
    "# Get the values from the last 3 numbers in the array\n"
   ]
  },
  {
   "cell_type": "code",
   "execution_count": null,
   "id": "3ddf0b60-ef41-4d82-881d-d8a388dee860",
   "metadata": {},
   "outputs": [],
   "source": [
    "# Get the first 5 values from the array in a range\n"
   ]
  },
  {
   "cell_type": "code",
   "execution_count": null,
   "id": "4d0b1976-061c-49fc-a8f3-4eb2e1bb4854",
   "metadata": {},
   "outputs": [],
   "source": [
    "## Broadcasting Technique - Change value of the first 5 values with 25\n",
    "\n",
    "\n",
    "\n",
    "#Show\n"
   ]
  },
  {
   "cell_type": "code",
   "execution_count": null,
   "id": "9c4bcbe0-babe-447b-9f12-1583003f08fc",
   "metadata": {},
   "outputs": [],
   "source": [
    "# Recreate array to examine copy function\n",
    "\n",
    "\n",
    "#Show\n"
   ]
  },
  {
   "cell_type": "code",
   "execution_count": null,
   "id": "69dddcc6-a774-4589-b4ce-976b004a8101",
   "metadata": {},
   "outputs": [],
   "source": [
    "# Create a new variable slicing the first 5 values\n",
    "\n",
    "\n",
    "#Show slice\n"
   ]
  },
  {
   "cell_type": "code",
   "execution_count": null,
   "id": "93c3b522-8b54-47ef-81b7-72fc0ada683e",
   "metadata": {},
   "outputs": [],
   "source": [
    "# Change all values in sliced array to 50\n",
    "\n",
    "\n",
    "#Show Slice again\n"
   ]
  },
  {
   "cell_type": "code",
   "execution_count": null,
   "id": "111b3bff-07e0-4b93-9307-bb2e0af1959c",
   "metadata": {},
   "outputs": [],
   "source": [
    "# Check the original array, and the changes are applied there\n"
   ]
  },
  {
   "cell_type": "code",
   "execution_count": null,
   "id": "70974875-de0c-4002-93cf-556527e881dc",
   "metadata": {},
   "outputs": [],
   "source": [
    "#To get a copy, need to be explicit\n"
   ]
  },
  {
   "cell_type": "markdown",
   "id": "c3671567-dbcf-4f9f-8ea7-6eb278be1e77",
   "metadata": {},
   "source": [
    "### 2.1 Indexing a 2D array\n",
    "\n",
    "The general format is **arr_2d[row][col]** or **arr_2d[row,col]**."
   ]
  },
  {
   "cell_type": "code",
   "execution_count": null,
   "id": "872da9b9-31da-49b2-9cae-52ea550a4528",
   "metadata": {},
   "outputs": [],
   "source": [
    "# Create a 3 by 3 array\n",
    "\n",
    "\n",
    "#Show\n"
   ]
  },
  {
   "cell_type": "code",
   "execution_count": null,
   "id": "b1968b11-6860-4bac-8ddc-4f6da4f94895",
   "metadata": {},
   "outputs": [],
   "source": [
    "# Extract the second row of the matrix\n"
   ]
  },
  {
   "cell_type": "code",
   "execution_count": null,
   "id": "0f162099-777e-4e27-82e2-f5dae0971b34",
   "metadata": {},
   "outputs": [],
   "source": [
    "# Extract the first value in the second row\n",
    "\n"
   ]
  },
  {
   "cell_type": "code",
   "execution_count": null,
   "id": "0d0e82d2-1cd7-47b7-92e1-4058ef125b53",
   "metadata": {},
   "outputs": [],
   "source": [
    "# Extract the first value in the second row\n",
    "\n"
   ]
  },
  {
   "cell_type": "code",
   "execution_count": null,
   "id": "ae1e14f6-51e6-448b-bf2e-8610c6ab004f",
   "metadata": {},
   "outputs": [],
   "source": [
    "# 2D array slicing - Extract the top right 2 by 2 matrix\n",
    "\n"
   ]
  },
  {
   "cell_type": "markdown",
   "id": "9a4f9eaf-8b7f-4926-8a13-6310ee5d70e9",
   "metadata": {},
   "source": [
    "### 2.2 Extract Based on Condition"
   ]
  },
  {
   "cell_type": "code",
   "execution_count": null,
   "id": "02b27415-abf2-4260-8e77-aea6c1f36d87",
   "metadata": {},
   "outputs": [],
   "source": [
    "## Create an Array\n"
   ]
  },
  {
   "cell_type": "code",
   "execution_count": null,
   "id": "3a04abe9-10a5-48a8-a871-a75cef1815ec",
   "metadata": {},
   "outputs": [],
   "source": [
    "# Check all values that are greater than 5\n",
    "\n"
   ]
  },
  {
   "cell_type": "code",
   "execution_count": null,
   "id": "303cfabe-9fc0-4e6b-bdec-36ebd3869d2a",
   "metadata": {},
   "outputs": [],
   "source": [
    "# Pass condition to the array\n"
   ]
  },
  {
   "cell_type": "code",
   "execution_count": null,
   "id": "a5731808-58de-480a-a881-462b01e85572",
   "metadata": {},
   "outputs": [],
   "source": [
    "#Faster way to do the above\n",
    "\n"
   ]
  },
  {
   "cell_type": "markdown",
   "id": "f63eea49-7226-4299-8690-9f797546f09c",
   "metadata": {},
   "source": [
    "### 2.3 Exercises"
   ]
  },
  {
   "cell_type": "code",
   "execution_count": null,
   "id": "bc56bbc0-392f-4229-a648-92ef2bd0b548",
   "metadata": {},
   "outputs": [],
   "source": [
    "mat = np.arange(1,26).reshape(5,5)\n",
    "mat"
   ]
  },
  {
   "cell_type": "markdown",
   "id": "7a47378e-67ac-45d3-b980-c9b677282830",
   "metadata": {
    "tags": []
   },
   "source": [
    "#### 10. Slice a 2D"
   ]
  },
  {
   "cell_type": "code",
   "execution_count": null,
   "id": "d9a095e4-74bd-4185-ad30-5ae92dfc7998",
   "metadata": {},
   "outputs": [],
   "source": [
    "\"\"\"\n",
    "Write code that slices the middle part of the above matrix (2D)\n",
    "array([[12, 13, 14, 15],\n",
    "       [17, 18, 19, 20],\n",
    "       [22, 23, 24, 25]])\n",
    "\"\"\""
   ]
  },
  {
   "cell_type": "code",
   "execution_count": null,
   "id": "18df7f8b-ffbf-49da-b5e1-80e2f08f4eea",
   "metadata": {},
   "outputs": [],
   "source": []
  },
  {
   "cell_type": "markdown",
   "id": "4f316ab8-30f4-47ae-97d7-f3c895fa37b6",
   "metadata": {},
   "source": [
    "#### 11. Write code that slices the number 20 (1D)\n"
   ]
  },
  {
   "cell_type": "code",
   "execution_count": null,
   "id": "b91c803e-424d-4cb8-abda-2ffe37b58801",
   "metadata": {},
   "outputs": [],
   "source": [
    "\"\"\"\n",
    "Write code that slices vertically \n",
    "array([[ 2],\n",
    "       [ 7],\n",
    "       [12]])\n",
    "\"\"\""
   ]
  },
  {
   "cell_type": "code",
   "execution_count": null,
   "id": "53d28078-baf4-48d4-811c-f75241c59e11",
   "metadata": {},
   "outputs": [],
   "source": []
  },
  {
   "cell_type": "markdown",
   "id": "d4a83b18-b7ce-48f6-a93b-8f0ae042f5dd",
   "metadata": {},
   "source": [
    "#### 12. Write code that slices horizontally [21, 22, 23, 24, 25]"
   ]
  },
  {
   "cell_type": "code",
   "execution_count": null,
   "id": "1e8fb9a3-87dc-48b4-a5a5-7ce2f617e9b6",
   "metadata": {},
   "outputs": [],
   "source": []
  },
  {
   "cell_type": "markdown",
   "id": "cc8c6ce7-a56f-4339-9247-eaf07cc1a050",
   "metadata": {
    "tags": []
   },
   "source": [
    "## 3. NumPy Operations"
   ]
  },
  {
   "cell_type": "code",
   "execution_count": null,
   "id": "52c04fbe-54d1-4ee4-b9c1-9b482e014fa5",
   "metadata": {},
   "outputs": [],
   "source": [
    "import numpy as np\n",
    "arr = np.arange(0,10)\n",
    "arr"
   ]
  },
  {
   "cell_type": "code",
   "execution_count": null,
   "id": "88c84069-ae15-49dc-94af-df89c742b488",
   "metadata": {},
   "outputs": [],
   "source": [
    "# Adding arrays together\n"
   ]
  },
  {
   "cell_type": "code",
   "execution_count": null,
   "id": "bd199d4d-fbe3-49b5-8794-b9906f4b1f17",
   "metadata": {},
   "outputs": [],
   "source": [
    "# Mutliply arrays together\n"
   ]
  },
  {
   "cell_type": "code",
   "execution_count": null,
   "id": "1f04780c-86a7-4d6f-ac3f-aea3ed307a39",
   "metadata": {},
   "outputs": [],
   "source": [
    "# Subtract arrays together\n"
   ]
  },
  {
   "cell_type": "code",
   "execution_count": null,
   "id": "8ce2ab71-3f46-4ee2-bb5c-6fc3612c1560",
   "metadata": {},
   "outputs": [],
   "source": [
    "# Divide arrays together\n",
    "\n"
   ]
  },
  {
   "cell_type": "code",
   "execution_count": null,
   "id": "25810bf7-88f2-4e0c-9aaa-f40ebc1ad3b0",
   "metadata": {},
   "outputs": [],
   "source": [
    "# Divide the array\n"
   ]
  },
  {
   "cell_type": "code",
   "execution_count": null,
   "id": "1343b2ad-5844-449f-8df0-5909ddd1dea8",
   "metadata": {},
   "outputs": [],
   "source": [
    "#Square the array\n"
   ]
  },
  {
   "cell_type": "markdown",
   "id": "d62dec15-a62d-4ffd-b819-f848631ddd16",
   "metadata": {
    "tags": []
   },
   "source": [
    "## 3.1 Universal Array Functions"
   ]
  },
  {
   "cell_type": "code",
   "execution_count": null,
   "id": "c733ae18-b318-493c-8a69-1514628fd852",
   "metadata": {},
   "outputs": [],
   "source": [
    "# Square root using NP\n"
   ]
  },
  {
   "cell_type": "code",
   "execution_count": null,
   "id": "f6497312-31b6-4871-8ba5-605bb3bab5e8",
   "metadata": {},
   "outputs": [],
   "source": [
    "# exponential using NP\n"
   ]
  },
  {
   "cell_type": "code",
   "execution_count": null,
   "id": "be9f26c8-66ac-4efe-80d8-55a84ac6cfe4",
   "metadata": {},
   "outputs": [],
   "source": [
    "# sin using NP\n"
   ]
  },
  {
   "cell_type": "code",
   "execution_count": null,
   "id": "c4af19b9-c319-4115-8f3c-e1adc4847bf6",
   "metadata": {},
   "outputs": [],
   "source": [
    "# log using NP\n"
   ]
  },
  {
   "cell_type": "markdown",
   "id": "d0a464ae-d3de-48f7-b503-2b89c7e84e3d",
   "metadata": {
    "tags": []
   },
   "source": [
    "## 3.2 Statistics Summary on Arrays"
   ]
  },
  {
   "cell_type": "code",
   "execution_count": null,
   "id": "b3424558-b4a0-4b33-93d3-a49e5d75b08d",
   "metadata": {},
   "outputs": [],
   "source": [
    "arr = np.arange(0,10)\n",
    "arr"
   ]
  },
  {
   "cell_type": "code",
   "execution_count": null,
   "id": "861a0882-de0f-4eaa-98d3-f6c82f60363f",
   "metadata": {},
   "outputs": [],
   "source": [
    "# sum the array\n"
   ]
  },
  {
   "cell_type": "code",
   "execution_count": null,
   "id": "26c4f5c7-807d-4c4c-92e6-f3b2c28bca13",
   "metadata": {},
   "outputs": [],
   "source": [
    "# get the mean of the array\n"
   ]
  },
  {
   "cell_type": "code",
   "execution_count": null,
   "id": "38dee2b2-ccdc-49e2-bf8d-6913e70147c2",
   "metadata": {},
   "outputs": [],
   "source": [
    "# get the min of the array\n"
   ]
  },
  {
   "cell_type": "code",
   "execution_count": null,
   "id": "92d4f2e8-7a97-4838-bae2-4fd456360f8b",
   "metadata": {},
   "outputs": [],
   "source": [
    "# get the var of the array\n"
   ]
  },
  {
   "cell_type": "code",
   "execution_count": null,
   "id": "0eceadec-a594-4308-84db-a18ea4d4f29b",
   "metadata": {},
   "outputs": [],
   "source": [
    "# get the STD of the array\n",
    "\n"
   ]
  },
  {
   "cell_type": "markdown",
   "id": "435f8db7-0860-4c93-9c40-1cb3db96da7b",
   "metadata": {
    "tags": []
   },
   "source": [
    "## 3.3 Statistics on 2D shapes"
   ]
  },
  {
   "cell_type": "code",
   "execution_count": null,
   "id": "c0579787-74e6-4e3f-b2ef-1a75edac0bbf",
   "metadata": {},
   "outputs": [],
   "source": [
    "# Example\n",
    "arr_2d = np.array([[1,2,3,4],[5,6,7,8],[9,10,11,12]])\n",
    "arr_2d"
   ]
  },
  {
   "cell_type": "code",
   "execution_count": null,
   "id": "687f4b65-78ac-4da4-aabf-3ee9048c6503",
   "metadata": {},
   "outputs": [],
   "source": [
    "# Get the sum across a specific row\n"
   ]
  },
  {
   "cell_type": "code",
   "execution_count": null,
   "id": "c850f660-1fcc-4ed5-af40-f0743e7fa3b8",
   "metadata": {},
   "outputs": [],
   "source": [
    "# Get the shape of the array\n",
    "\n"
   ]
  },
  {
   "cell_type": "markdown",
   "id": "fefada63-a3e3-4b47-b74b-c9cdf48fb3d1",
   "metadata": {},
   "source": [
    "## 3.4 Excercise"
   ]
  },
  {
   "cell_type": "code",
   "execution_count": null,
   "id": "032337ef-b77d-4d41-b7d5-d06cfd23b0bc",
   "metadata": {},
   "outputs": [],
   "source": [
    "mat = np.arange(1,26).reshape(5,5)\n",
    "mat"
   ]
  },
  {
   "cell_type": "markdown",
   "id": "dcee3f03-aea2-47b1-8f64-f4df6c0241c3",
   "metadata": {},
   "source": [
    "#### 13. Get the sum of all the values in mat"
   ]
  },
  {
   "cell_type": "code",
   "execution_count": null,
   "id": "084af01d-7cc6-4256-ac85-caf8dfff68d4",
   "metadata": {},
   "outputs": [],
   "source": []
  },
  {
   "cell_type": "markdown",
   "id": "6e44142d-42f8-45a5-beb5-5aac481e4e69",
   "metadata": {},
   "source": [
    "#### 14. Get the standard deviation of the values in mat"
   ]
  },
  {
   "cell_type": "code",
   "execution_count": null,
   "id": "fa545c51-16e2-4500-8700-27966fa08ec5",
   "metadata": {},
   "outputs": [],
   "source": []
  },
  {
   "cell_type": "markdown",
   "id": "448349ba-6cb7-4e12-a331-d05af59299ea",
   "metadata": {},
   "source": [
    "#### 15. Get the sum of all the columns in mat"
   ]
  },
  {
   "cell_type": "code",
   "execution_count": null,
   "id": "546c0f69-979a-44a3-88d2-8f0c72ded5fb",
   "metadata": {},
   "outputs": [],
   "source": []
  }
 ],
 "metadata": {
  "kernelspec": {
   "display_name": "Python 3 (ipykernel)",
   "language": "python",
   "name": "python3"
  },
  "language_info": {
   "codemirror_mode": {
    "name": "ipython",
    "version": 3
   },
   "file_extension": ".py",
   "mimetype": "text/x-python",
   "name": "python",
   "nbconvert_exporter": "python",
   "pygments_lexer": "ipython3",
   "version": "3.9.10"
  }
 },
 "nbformat": 4,
 "nbformat_minor": 5
}
