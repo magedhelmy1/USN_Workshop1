{
 "cells": [
  {
   "cell_type": "markdown",
   "id": "14f07836-5cd9-4771-a6ab-c6e06a775c9b",
   "metadata": {},
   "source": [
    "<h1> Pandas </h1>"
   ]
  },
  {
   "cell_type": "code",
   "execution_count": null,
   "id": "c0fec8e9-b04f-4e30-a307-631555eaa9d9",
   "metadata": {},
   "outputs": [],
   "source": [
    "!conda install pandas -y"
   ]
  },
  {
   "cell_type": "markdown",
   "id": "fa8a5fab-e52f-4638-a2c1-c11303550f9a",
   "metadata": {},
   "source": [
    "## Goals\n",
    "<ul>\n",
    "  <li>Understand the fundamentals of Pandas package and how it is used for manipulating datasets</li>\n",
    "</ul>"
   ]
  },
  {
   "cell_type": "markdown",
   "id": "f2a81e2d-7a77-4451-a508-0257370e7325",
   "metadata": {},
   "source": [
    "<p> What is Pandas? <p>\n",
    "<ul>\n",
    "  <li>A python package providing a data structure</li>\n",
    "  <li> Specifically designed with “relational” or “labeled” data </li>\n",
    "   <li> Tabular data with heterogeneously-typed columns, as in an SQL table or Excel spreadsheet</li>\n",
    "   <li> time series data </li>\n",
    "   <li> Series (1-dimensional) and DataFrame (2-dimensional) </li>\n",
    "    <li> The Pandas module mainly works with the tabular data, whereas the NumPy module works with the numerical data. </li>\n",
    "</ul>\n",
    "\n",
    "<p> Why use Pandas used over other lists? <p>\n",
    "<ul>\n",
    "  <li> Easy handling of missing data</li>\n",
    "  <li> columns can be inserted and deleted </li>\n",
    "  <li> flexible group by functionality to perform split-apply-combine</li>\n",
    "  <li>  Flexible reshaping and pivoting of data sets</li>\n",
    "</ul>\n",
    "<p> What is Series in Pandas? <p>\n",
    "<ul>\n",
    "  <li> A Series is built on top of the NumPy array object.\n",
    "  <li> What differentiates the NumPy array from a Series, is that a Series can have axis labels, meaning it can be indexed by a label, instead of just a number location. \n",
    "   <li> It also doesn't need to hold numeric data, it can hold any arbitrary Python Object.</li>\n",
    " </ul>  \n"
   ]
  },
  {
   "cell_type": "markdown",
   "id": "bb5a2da7-f18d-46b8-96cb-14e9c8ca493e",
   "metadata": {},
   "source": [
    "## 1. Foundational Pandas "
   ]
  },
  {
   "cell_type": "code",
   "execution_count": null,
   "id": "37808a3c-7914-42a1-8bac-a93bea557894",
   "metadata": {},
   "outputs": [],
   "source": [
    "import numpy as np\n",
    "import pandas as pd"
   ]
  },
  {
   "cell_type": "code",
   "execution_count": null,
   "id": "213f284e-3f7d-488b-add5-93f2194a1c89",
   "metadata": {},
   "outputs": [],
   "source": [
    "# Create a series from pandas list\n",
    "myindex = ['USA','Canada','Mexico']"
   ]
  },
  {
   "cell_type": "code",
   "execution_count": null,
   "id": "5545ef65-08bb-48e2-b924-61f87b2bcfbb",
   "metadata": {},
   "outputs": [],
   "source": [
    "# Create values from the index list\n",
    "mydata = [1776,1867,1821]"
   ]
  },
  {
   "cell_type": "code",
   "execution_count": null,
   "id": "d901332e-7d29-441f-92bc-76856b6f8410",
   "metadata": {},
   "outputs": [],
   "source": [
    "# Add index to the data\n"
   ]
  },
  {
   "cell_type": "code",
   "execution_count": null,
   "id": "eb1d9d88-7fd4-4af3-a319-ffd016bd7336",
   "metadata": {},
   "outputs": [],
   "source": [
    "# Create 2 dictonaries and convert to pandas\n",
    "q1 = {'Japan': 80, 'China': 450, 'India': 200, 'USA': 250}\n",
    "q2 = {'Brazil': 100,'China': 500, 'India': 210,'USA': 260}"
   ]
  },
  {
   "cell_type": "code",
   "execution_count": null,
   "id": "9979af68-5719-41ee-bc1f-bb210004810f",
   "metadata": {},
   "outputs": [],
   "source": [
    "# Convert into Pandas Series\n"
   ]
  },
  {
   "cell_type": "code",
   "execution_count": null,
   "id": "029c5a45-c949-4a85-a85f-14496ba5a47c",
   "metadata": {},
   "outputs": [],
   "source": [
    "# Search value by name like in a database search system\n"
   ]
  },
  {
   "cell_type": "code",
   "execution_count": null,
   "id": "f5a53c63-1fdd-4a71-98dc-0bdfb70de27e",
   "metadata": {},
   "outputs": [],
   "source": [
    "# Integer Based Location information also retained!\n"
   ]
  },
  {
   "cell_type": "markdown",
   "id": "61ca17dd-d4ba-416a-86e1-2b45d011c00e",
   "metadata": {},
   "source": [
    "### 1.1 Operations"
   ]
  },
  {
   "cell_type": "code",
   "execution_count": null,
   "id": "0ad932d9-f462-493b-b75b-f13dde2ba6cd",
   "metadata": {},
   "outputs": [],
   "source": [
    "# Grab just the index keys\n"
   ]
  },
  {
   "cell_type": "code",
   "execution_count": null,
   "id": "04f033e7-ca26-47e4-ba66-8ff7100b7d6f",
   "metadata": {},
   "outputs": [],
   "source": [
    "# Similiar to numpy, you can Perform Operations Broadcasted across entire Series\n"
   ]
  },
  {
   "cell_type": "code",
   "execution_count": null,
   "id": "0723e2f0-e013-421c-8d64-01beef2d24db",
   "metadata": {},
   "outputs": [],
   "source": [
    "# Divide by 10\n"
   ]
  },
  {
   "cell_type": "code",
   "execution_count": null,
   "id": "88694a99-8b05-499e-aabe-3a368455a8be",
   "metadata": {},
   "outputs": [],
   "source": [
    "# Values that do not exist in both series become NaN while the rest are added\n"
   ]
  },
  {
   "cell_type": "code",
   "execution_count": null,
   "id": "4701877b-a4d7-44e7-973e-3bdf6bf20306",
   "metadata": {},
   "outputs": [],
   "source": [
    "# You can fill the missing value from the other column wit hzero\n"
   ]
  },
  {
   "cell_type": "markdown",
   "id": "9ebbd958-f7a9-42c4-a053-cf600e8b1897",
   "metadata": {},
   "source": [
    "## 2. Dataframes\n",
    "\n",
    "<p> \n",
    "Throughout the course, most of our data exploration will be done with DataFrames. DataFrames are an extremely powerful tool and a natural extension of the Pandas Series.\n",
    "\n",
    "**A Pandas DataFrame consists of multiple Pandas Series that share index values.**<p>"
   ]
  },
  {
   "cell_type": "code",
   "execution_count": null,
   "id": "cabebfbd-816e-4ddb-a987-780534f2d7d9",
   "metadata": {},
   "outputs": [],
   "source": [
    "import numpy as np\n",
    "import pandas as pd"
   ]
  },
  {
   "cell_type": "code",
   "execution_count": null,
   "id": "fbd92a81-5bf1-4390-a171-5f4d045fb612",
   "metadata": {},
   "outputs": [],
   "source": [
    "# Make sure we all have the same random number\n",
    "# Generate a random number of shape 4,3 with any value in range of 50\n",
    "np.random.seed(101)\n",
    "mydata = np.random.randint(0,50,(4,3))\n",
    "mydata"
   ]
  },
  {
   "cell_type": "code",
   "execution_count": null,
   "id": "a5d808a1-18c2-41bb-9d4f-cfa524ebd7b2",
   "metadata": {},
   "outputs": [],
   "source": [
    "# Create the index\n",
    "myindex = ['CL','NY','AZ','TX']"
   ]
  },
  {
   "cell_type": "code",
   "execution_count": null,
   "id": "ce9256b3-562a-4fc6-8ef9-2cf09ff9b83a",
   "metadata": {},
   "outputs": [],
   "source": [
    "# Create the column header\n",
    "mycolumns = ['Jan','Feb','Mar']"
   ]
  },
  {
   "cell_type": "code",
   "execution_count": null,
   "id": "1385be60-1afe-48b7-9d1d-e2dfe59dd51c",
   "metadata": {},
   "outputs": [],
   "source": [
    "# Create a dataframe out of the data\n"
   ]
  },
  {
   "cell_type": "code",
   "execution_count": null,
   "id": "885d534c-dfb2-49d0-be6b-eb10305135dd",
   "metadata": {},
   "outputs": [],
   "source": [
    "# Add index to the dataframe\n"
   ]
  },
  {
   "cell_type": "code",
   "execution_count": null,
   "id": "9faf4d83-7306-4a29-bb09-59f06f8c4381",
   "metadata": {},
   "outputs": [],
   "source": [
    "# Add column headings to the dataframe\n"
   ]
  },
  {
   "cell_type": "code",
   "execution_count": null,
   "id": "cf2e5e6c-d69f-4344-9bd8-ae0146ad8838",
   "metadata": {},
   "outputs": [],
   "source": [
    "#Get the info of the dataframe created\n"
   ]
  },
  {
   "cell_type": "markdown",
   "id": "31fee727-86a3-4a6e-9004-36dbcb885788",
   "metadata": {},
   "source": [
    "### 2.1 Reading CSVs"
   ]
  },
  {
   "cell_type": "markdown",
   "id": "5542715f-465c-40fe-938c-606165bf2aee",
   "metadata": {},
   "source": [
    "<p> \n",
    "CSV: Comma Separated Values files are text files that use commas as field delimeters.\n",
    "    \n",
    "    * References\n",
    "    * Bryant, P. G. and Smith, M (1995) Practical Data Analysis: Case Studies in Business Statistics. Homewood, IL: Richard D. Irwin Publishing:\n",
    "    "
   ]
  },
  {
   "cell_type": "code",
   "execution_count": null,
   "id": "5d943973-91e1-4ae3-bfe4-42881475b002",
   "metadata": {},
   "outputs": [],
   "source": [
    "#Read data from the CV\n"
   ]
  },
  {
   "cell_type": "code",
   "execution_count": null,
   "id": "2f969324-40b9-46d8-b0c5-67c84abe8fbf",
   "metadata": {},
   "outputs": [],
   "source": [
    "# Inspect the columns of the df\n"
   ]
  },
  {
   "cell_type": "code",
   "execution_count": null,
   "id": "1dae61c7-28af-45ee-acf7-9380cfcd6ab4",
   "metadata": {},
   "outputs": [],
   "source": []
  },
  {
   "cell_type": "code",
   "execution_count": null,
   "id": "3f95871a-d140-4b01-8259-627f68d76060",
   "metadata": {},
   "outputs": [],
   "source": [
    "# Inspect the first 3 entries in the head\n"
   ]
  },
  {
   "cell_type": "code",
   "execution_count": null,
   "id": "6dccb89c-68bc-4bce-becc-e4c41192a9cc",
   "metadata": {},
   "outputs": [],
   "source": [
    "# Inspect the last 3 entries in the tail\n"
   ]
  },
  {
   "cell_type": "code",
   "execution_count": null,
   "id": "cb6e7a61-9696-454f-bd79-c602b1a3c4f9",
   "metadata": {},
   "outputs": [],
   "source": [
    "# Inspect the dataframe in general\n"
   ]
  },
  {
   "cell_type": "code",
   "execution_count": null,
   "id": "7d79c730-54dc-40b4-a494-d301d0831608",
   "metadata": {},
   "outputs": [],
   "source": [
    "# Get the length of the dataframe\n"
   ]
  },
  {
   "cell_type": "code",
   "execution_count": null,
   "id": "abfaadbe-aa5b-43f8-b0e1-dde36eeda716",
   "metadata": {},
   "outputs": [],
   "source": [
    "# Get the Generate descriptive statistics of the dataframe\n"
   ]
  },
  {
   "cell_type": "code",
   "execution_count": null,
   "id": "ba7e3061-d2ed-456a-a6df-e1d73c62782b",
   "metadata": {},
   "outputs": [],
   "source": [
    "# Get the Generate descriptive statistics of the dataframe transposed\n"
   ]
  },
  {
   "cell_type": "markdown",
   "id": "1b5c48d7-38f5-4b52-9de4-4b35ccc514cf",
   "metadata": {
    "tags": []
   },
   "source": [
    "### 2.2 Selection and Indexing\n",
    "\n",
    "Let's learn how to retrieve information from a DataFrame."
   ]
  },
  {
   "cell_type": "code",
   "execution_count": null,
   "id": "22c80ff2-9b8d-4693-9d5a-fe7e4b6cb43a",
   "metadata": {},
   "outputs": [],
   "source": [
    "# Select the total bill in the frame\n"
   ]
  },
  {
   "cell_type": "code",
   "execution_count": null,
   "id": "56fa7dd9-d4c4-42ad-8741-80352e1186e0",
   "metadata": {},
   "outputs": [],
   "source": [
    "# Inspect the type of that row\n"
   ]
  },
  {
   "cell_type": "code",
   "execution_count": null,
   "id": "57e485a1-8769-4412-a277-980b823dca57",
   "metadata": {},
   "outputs": [],
   "source": [
    "# Inspect 2 rows, tip: pass in a python list to the dataframe\n",
    "\n"
   ]
  },
  {
   "cell_type": "markdown",
   "id": "02ac119a-8211-4f59-8d05-e52de37a0915",
   "metadata": {},
   "source": [
    "### 2.3 Create New Columns"
   ]
  },
  {
   "cell_type": "code",
   "execution_count": null,
   "id": "94dc3fe0-4266-491d-adb3-e5551a6619e2",
   "metadata": {},
   "outputs": [],
   "source": [
    "# Create new columns based on the existing columns based tip and total_bill to get tip percentage\n"
   ]
  },
  {
   "cell_type": "code",
   "execution_count": null,
   "id": "30f4a6eb-eaf1-4b99-b94c-9ca73e9b9d57",
   "metadata": {},
   "outputs": [],
   "source": [
    "# inspect the dataframe\n"
   ]
  },
  {
   "cell_type": "code",
   "execution_count": null,
   "id": "9888d0dc-cb85-4dbf-b03e-6f925fb616f2",
   "metadata": {},
   "outputs": [],
   "source": [
    "# Create new columns based on the existing columns based total bill and size to get price per person\n",
    "\n"
   ]
  },
  {
   "cell_type": "code",
   "execution_count": null,
   "id": "3a711bd4-4b72-4c64-b7ef-64885ff7ac59",
   "metadata": {},
   "outputs": [],
   "source": []
  },
  {
   "cell_type": "markdown",
   "id": "71946dc7-3e06-4651-852d-78f51d76c157",
   "metadata": {},
   "source": [
    "### 2.4 Adjust Existing Columns"
   ]
  },
  {
   "cell_type": "code",
   "execution_count": null,
   "id": "919cad40-e0d9-459e-9029-16e8abd45d16",
   "metadata": {},
   "outputs": [],
   "source": [
    "# Because pandas is based on numpy, we get awesome capabilities with numpy's universal functions!\n"
   ]
  },
  {
   "cell_type": "code",
   "execution_count": null,
   "id": "7da74251-f39a-4688-b819-65276a0f1f30",
   "metadata": {},
   "outputs": [],
   "source": [
    "# inspect the frame\n"
   ]
  },
  {
   "cell_type": "markdown",
   "id": "4575920e-cc18-43d7-a303-11cb3820c2a2",
   "metadata": {},
   "source": [
    "### 2.5 Remove Columns"
   ]
  },
  {
   "cell_type": "code",
   "execution_count": null,
   "id": "9cc529d9-5b56-4572-aee1-c8e13a7e2c11",
   "metadata": {},
   "outputs": [],
   "source": [
    "# remove the tip percentage column\n"
   ]
  },
  {
   "cell_type": "code",
   "execution_count": null,
   "id": "20835116-a2db-4ea8-8e26-10dd370c049b",
   "metadata": {},
   "outputs": [],
   "source": [
    "# inspect the head \n"
   ]
  },
  {
   "cell_type": "markdown",
   "id": "131d3f75-c90b-4310-b97b-8d247aec768b",
   "metadata": {},
   "source": [
    "### 2.6 Index Basics\n",
    "\n",
    "Before going over the same retrieval tasks for rows, let's build some basic understanding of the pandas DataFrame Index."
   ]
  },
  {
   "cell_type": "code",
   "execution_count": null,
   "id": "1984d47a-db2d-49e6-a68b-debd1a016fef",
   "metadata": {},
   "outputs": [],
   "source": [
    "# Get the index of the dataframe\n"
   ]
  },
  {
   "cell_type": "code",
   "execution_count": null,
   "id": "44ac7c99-cbfd-4367-95fd-fc510a97966b",
   "metadata": {},
   "outputs": [],
   "source": [
    "# Set the index of the dataframe\n"
   ]
  },
  {
   "cell_type": "code",
   "execution_count": null,
   "id": "22bf455a-d9ed-4abe-a44e-64b66e4b1115",
   "metadata": {},
   "outputs": [],
   "source": [
    "# Inspect the head\n"
   ]
  },
  {
   "cell_type": "code",
   "execution_count": null,
   "id": "4434322a-2594-431b-8b20-2323aef9e571",
   "metadata": {},
   "outputs": [],
   "source": [
    "# Reset the index\n"
   ]
  },
  {
   "cell_type": "code",
   "execution_count": null,
   "id": "1c720155-0dad-46bf-94a8-1b7859ebac34",
   "metadata": {},
   "outputs": [],
   "source": [
    "# Inspect the head\n"
   ]
  },
  {
   "cell_type": "markdown",
   "id": "d3a9b504-074b-4234-bf74-15e270f16772",
   "metadata": {},
   "source": [
    "### 2.7 Grab a Single Row"
   ]
  },
  {
   "cell_type": "code",
   "execution_count": null,
   "id": "e232e238-20ac-4f0f-bebb-7c16af9c0dc5",
   "metadata": {},
   "outputs": [],
   "source": [
    "# grab the first row\n"
   ]
  },
  {
   "cell_type": "code",
   "execution_count": null,
   "id": "a9de9ce4-f1e1-4f06-9c31-7f30264723b2",
   "metadata": {},
   "outputs": [],
   "source": [
    "# Set the index of the payments\n"
   ]
  },
  {
   "cell_type": "code",
   "execution_count": null,
   "id": "61ce4c0b-c309-43b8-9dc8-2b28e6eb67a3",
   "metadata": {},
   "outputs": [],
   "source": [
    "# Name Based\n"
   ]
  },
  {
   "cell_type": "markdown",
   "id": "e8041f23-1e89-49ea-9a32-fd64c47caa3d",
   "metadata": {},
   "source": [
    "### 2.8 Grab Multiple Rows"
   ]
  },
  {
   "cell_type": "code",
   "execution_count": null,
   "id": "c5bc42c4-a3ba-4e91-941c-078ecf080448",
   "metadata": {},
   "outputs": [],
   "source": [
    "# get multiple rows using iloc\n"
   ]
  },
  {
   "cell_type": "code",
   "execution_count": null,
   "id": "c08ad40d-b732-4805-8795-585c39da876e",
   "metadata": {},
   "outputs": [],
   "source": [
    "# get multiple rows using index\n"
   ]
  },
  {
   "cell_type": "markdown",
   "id": "6311e4c4-4c1c-43dc-ab8b-e7f3d11a88ff",
   "metadata": {},
   "source": [
    "### 2.9 Remove Row\n",
    "\n",
    "Typically are datasets will be large enough that we won't remove rows like this since we won't know thier row location for some specific condition, instead, we drop rows based on conditions such as missing data or column values. The next lecture will cover this in a lot more detail."
   ]
  },
  {
   "cell_type": "code",
   "execution_count": null,
   "id": "74a8337b-a159-465f-a699-0082742a710f",
   "metadata": {},
   "outputs": [],
   "source": [
    "# drop Sun2959 row\n"
   ]
  },
  {
   "cell_type": "markdown",
   "id": "25228a75-2cb6-4b69-a543-0bab20db4c1b",
   "metadata": {},
   "source": [
    "### 2.10 Insert a New Row"
   ]
  },
  {
   "cell_type": "code",
   "execution_count": null,
   "id": "31515989-5196-4b01-89c4-00d7cfd8ec1a",
   "metadata": {},
   "outputs": [],
   "source": [
    "# insert a new row in the first location\n"
   ]
  },
  {
   "cell_type": "code",
   "execution_count": null,
   "id": "7a560219-f806-4465-aed7-b2102d0449b4",
   "metadata": {},
   "outputs": [],
   "source": [
    "# check the new row inserted\n"
   ]
  },
  {
   "cell_type": "code",
   "execution_count": null,
   "id": "bf495919-f6e1-4022-bbca-edcd5abad7de",
   "metadata": {},
   "outputs": [],
   "source": [
    "# Check the type of that row\n"
   ]
  },
  {
   "cell_type": "code",
   "execution_count": null,
   "id": "54fc41aa-9e35-4431-b9d6-daacda0db313",
   "metadata": {},
   "outputs": [],
   "source": [
    "# Check the tail of the dataframe\n"
   ]
  },
  {
   "cell_type": "code",
   "execution_count": null,
   "id": "ce700efd-00aa-4c6d-a89a-198a8766f9b7",
   "metadata": {},
   "outputs": [],
   "source": [
    "# Append the row to the tail of the dataframe\n"
   ]
  },
  {
   "cell_type": "code",
   "execution_count": null,
   "id": "62b8deab-e244-45a3-9c40-545aa441f976",
   "metadata": {},
   "outputs": [],
   "source": [
    "# Check the tail of the dataframe\n",
    "\n"
   ]
  },
  {
   "cell_type": "markdown",
   "id": "b8b80068-052a-4bcf-9f59-8942365fcf0a",
   "metadata": {},
   "source": [
    "## 3 Conditional Filtering"
   ]
  },
  {
   "cell_type": "code",
   "execution_count": null,
   "id": "8210635b-0daf-42aa-9386-4fa5782b4928",
   "metadata": {},
   "outputs": [],
   "source": [
    "import numpy as np\n",
    "import pandas as pd"
   ]
  },
  {
   "cell_type": "code",
   "execution_count": null,
   "id": "77b1d1eb-ebd2-4166-93f2-c40df0af4e0f",
   "metadata": {},
   "outputs": [],
   "source": [
    "# read the .csv file\n",
    "df = pd.read_csv('tips.csv')"
   ]
  },
  {
   "cell_type": "code",
   "execution_count": null,
   "id": "d9ee4f9d-edd6-47f6-893b-a3aee97daeb2",
   "metadata": {},
   "outputs": [],
   "source": [
    "# Conditional checking if bill is larger than 30\n"
   ]
  },
  {
   "cell_type": "code",
   "execution_count": null,
   "id": "f39907b5-a577-4b84-8e1e-f3c9c7025ccf",
   "metadata": {},
   "outputs": [],
   "source": [
    "# Check if values in the dataframe are removed\n"
   ]
  },
  {
   "cell_type": "code",
   "execution_count": null,
   "id": "1d16bb59-48ae-4763-8650-f18295d7e9c7",
   "metadata": {},
   "outputs": [],
   "source": [
    "# Remove any bills that are higher than 30\n"
   ]
  },
  {
   "cell_type": "code",
   "execution_count": null,
   "id": "c6c74f67-8b85-44e0-9090-0902d2945e44",
   "metadata": {},
   "outputs": [],
   "source": [
    "# Show only makes in the dataframe\n"
   ]
  },
  {
   "cell_type": "markdown",
   "id": "c0543c14-f79e-45b6-8fe9-2fc1438996c0",
   "metadata": {},
   "source": [
    "### 3.1 Multiple Conditions\n",
    "\n",
    "\n",
    "Recall the steps:\n",
    "\n",
    "* Get the conditions\n",
    "* Wrap each condition in parenthesis\n",
    "* Use the | or & operator, depending if you want an \n",
    "    * OR | (either condition is True)\n",
    "    * AND & (both conditions must be True)\n",
    "* You can also use the ~ operator as a NOT operation"
   ]
  },
  {
   "cell_type": "code",
   "execution_count": null,
   "id": "eb1a4d82-d2ab-4d5d-8de5-a57c488481fe",
   "metadata": {},
   "outputs": [],
   "source": [
    "# total bill is lower than 20 and note males\n"
   ]
  },
  {
   "cell_type": "code",
   "execution_count": null,
   "id": "34f37c48-fcce-47c9-97a4-9668e99d75ac",
   "metadata": {},
   "outputs": [],
   "source": [
    "# total bill is lower than 20 and not males\n",
    "\n"
   ]
  },
  {
   "cell_type": "code",
   "execution_count": null,
   "id": "fe43235b-6941-46e3-b0eb-303ce8e7dab2",
   "metadata": {},
   "outputs": [],
   "source": [
    "# Another way to put not\n"
   ]
  },
  {
   "cell_type": "code",
   "execution_count": null,
   "id": "1ac19f01-c769-46c9-9f18-382aa701cbec",
   "metadata": {},
   "outputs": [],
   "source": [
    "# Filter data on Saturday and Sunday\n"
   ]
  },
  {
   "cell_type": "code",
   "execution_count": null,
   "id": "b04d0d06-0c6e-42dc-8308-16ae0c7dbc5a",
   "metadata": {},
   "outputs": [],
   "source": [
    "# multiple conditions for filtering data science\n",
    "def multiCondition(price):\n",
    "    if price < 10:\n",
    "        return '$'\n",
    "    elif price >= 10 and price < 30:\n",
    "        return '$$'\n",
    "    else:\n",
    "        return '$$$'"
   ]
  },
  {
   "cell_type": "code",
   "execution_count": null,
   "id": "c5036cc9-de1f-42a1-8938-5fe5082786e2",
   "metadata": {},
   "outputs": [],
   "source": [
    "# Apply multicondition to data\n"
   ]
  },
  {
   "cell_type": "code",
   "execution_count": null,
   "id": "d6ca146c-9afd-44ca-8339-8ae70c861267",
   "metadata": {},
   "outputs": [],
   "source": [
    "df"
   ]
  },
  {
   "cell_type": "markdown",
   "id": "05087cef-cf41-4b94-b5a8-c7d329fddff7",
   "metadata": {},
   "source": [
    "### 3.2 Simple functions with Lambda"
   ]
  },
  {
   "cell_type": "code",
   "execution_count": null,
   "id": "76fcc807-def9-460e-b23e-fd672c5fe730",
   "metadata": {},
   "outputs": [],
   "source": [
    "# Rewriting a function using lambda\n"
   ]
  },
  {
   "cell_type": "code",
   "execution_count": null,
   "id": "d37c93d6-e024-4f8c-a629-4d3e0a1b3b3c",
   "metadata": {},
   "outputs": [],
   "source": [
    "# apply the lambda function\n",
    "\n"
   ]
  },
  {
   "cell_type": "markdown",
   "id": "d83eef56-7ca6-423f-84cd-173d1c0bbabc",
   "metadata": {},
   "source": [
    "## 4 Missing Data"
   ]
  },
  {
   "cell_type": "code",
   "execution_count": null,
   "id": "f4cce3f7-f533-49dd-9294-f666279258b9",
   "metadata": {},
   "outputs": [],
   "source": [
    "# Load data\n",
    "df = pd.read_csv('movie_scores.csv')"
   ]
  },
  {
   "cell_type": "code",
   "execution_count": null,
   "id": "f9f12a52-6aa5-4fb2-9541-caa5f12dfd05",
   "metadata": {},
   "outputs": [],
   "source": [
    "# Inspect data\n"
   ]
  },
  {
   "cell_type": "markdown",
   "id": "6c58045b-0585-4024-971f-11f639f9a96a",
   "metadata": {},
   "source": [
    "### 4.1 Checking and Selecting for Null Values"
   ]
  },
  {
   "cell_type": "code",
   "execution_count": null,
   "id": "433610c3-7444-4b69-9c93-c856168f1969",
   "metadata": {},
   "outputs": [],
   "source": [
    "# Find data that is null\n"
   ]
  },
  {
   "cell_type": "code",
   "execution_count": null,
   "id": "f4c6b599-d221-4b7f-81f8-181c328bd888",
   "metadata": {},
   "outputs": [],
   "source": [
    "# Find data that is not null\n"
   ]
  },
  {
   "cell_type": "code",
   "execution_count": null,
   "id": "91b886aa-5869-4558-bea4-2a25224c36b6",
   "metadata": {},
   "outputs": [],
   "source": [
    "# Remove not null values\n"
   ]
  },
  {
   "cell_type": "code",
   "execution_count": null,
   "id": "88715369-40cf-4928-be59-8f04e344650b",
   "metadata": {},
   "outputs": [],
   "source": [
    "# Multiple conditions Remove not null values\n"
   ]
  },
  {
   "cell_type": "code",
   "execution_count": null,
   "id": "a4bc94f1-cc44-4f03-a047-e3b3b3c3e0a3",
   "metadata": {},
   "outputs": [],
   "source": [
    "# Another way of dropping data\n"
   ]
  },
  {
   "cell_type": "code",
   "execution_count": null,
   "id": "851b334b-7ed3-4cd8-a181-578b0a231d48",
   "metadata": {},
   "outputs": [],
   "source": [
    "# Drop rows that is axis=0 and thresh dictates how many non-nans to survive\n"
   ]
  },
  {
   "cell_type": "markdown",
   "id": "ec4c4a3a-3b64-4814-b312-2045818d9c9c",
   "metadata": {},
   "source": [
    "### 4.2 Fill Data"
   ]
  },
  {
   "cell_type": "code",
   "execution_count": null,
   "id": "b90857e4-a672-42c5-b4fb-17fcf2c311e5",
   "metadata": {},
   "outputs": [],
   "source": [
    "# Fill with random word\n"
   ]
  },
  {
   "cell_type": "code",
   "execution_count": null,
   "id": "26b1ea58-c77a-4197-9d03-51da27423ffc",
   "metadata": {},
   "outputs": [],
   "source": [
    "# Fill first name with empty\n"
   ]
  },
  {
   "cell_type": "code",
   "execution_count": null,
   "id": "1563f7df-4a94-4420-8058-edc47cca6fbd",
   "metadata": {},
   "outputs": [],
   "source": [
    "# display dataframe\n"
   ]
  },
  {
   "cell_type": "code",
   "execution_count": null,
   "id": "34e689c7-f617-4747-8acc-48e2a7d3cb60",
   "metadata": {},
   "outputs": [],
   "source": [
    "# Get the mean of the column pre_movie_score\n"
   ]
  },
  {
   "cell_type": "code",
   "execution_count": null,
   "id": "00ce854a-758d-4380-be8e-61ee1816e21d",
   "metadata": {},
   "outputs": [],
   "source": [
    "# Fill the empty values with the mean of the column pre_movie_score\n",
    "\n"
   ]
  },
  {
   "cell_type": "code",
   "execution_count": null,
   "id": "91de8ae0-fd49-4a94-a806-9dbe8e43c9fc",
   "metadata": {},
   "outputs": [],
   "source": [
    "# another way to fill column with mean value\n"
   ]
  },
  {
   "cell_type": "markdown",
   "id": "0f3d25b4-580e-4053-bd55-ddf652491222",
   "metadata": {},
   "source": [
    "## 5. GroupBy Operations"
   ]
  },
  {
   "cell_type": "code",
   "execution_count": null,
   "id": "2210191a-d73c-4513-a3d7-e8f1a22a110e",
   "metadata": {},
   "outputs": [],
   "source": [
    "import numpy as np\n",
    "import pandas as pd"
   ]
  },
  {
   "cell_type": "code",
   "execution_count": null,
   "id": "3063a815-1747-4e78-b23f-c1fea9827d90",
   "metadata": {},
   "outputs": [],
   "source": [
    "df = pd.read_csv('mpg.csv')"
   ]
  },
  {
   "cell_type": "code",
   "execution_count": null,
   "id": "0936fa79-0f40-4897-a01e-3899a9344a65",
   "metadata": {},
   "outputs": [],
   "source": [
    "df"
   ]
  },
  {
   "cell_type": "code",
   "execution_count": null,
   "id": "2d865f4d-5e38-4bca-8487-1dcdeb0cd6c0",
   "metadata": {},
   "outputs": [],
   "source": [
    "# Make the model_year an index\n",
    "# model_year becomes the index! It is NOT a column name,it is now the name of the index\n"
   ]
  },
  {
   "cell_type": "code",
   "execution_count": null,
   "id": "d4be2621-9aad-4a89-8b91-892c34b68be5",
   "metadata": {},
   "outputs": [],
   "source": [
    "# Create a new dataframe grouped by the model_year mean \n"
   ]
  },
  {
   "cell_type": "code",
   "execution_count": null,
   "id": "58f06d67-9da5-4940-aac4-34751c3c89d6",
   "metadata": {},
   "outputs": [],
   "source": [
    "# print the average index\n",
    "avg_year.index"
   ]
  },
  {
   "cell_type": "code",
   "execution_count": null,
   "id": "9f332e77-2848-436c-a5d3-c66a8253e3f3",
   "metadata": {},
   "outputs": [],
   "source": [
    "# show the columns\n",
    "avg_year.columns"
   ]
  },
  {
   "cell_type": "code",
   "execution_count": null,
   "id": "d84644d9-6247-4e5b-9d6e-7047415dde7d",
   "metadata": {},
   "outputs": [],
   "source": [
    "# print the avg_year\n",
    "avg_year"
   ]
  },
  {
   "cell_type": "code",
   "execution_count": null,
   "id": "6aa690d3-ae16-4f14-b263-c326990b4f16",
   "metadata": {},
   "outputs": [],
   "source": [
    "# Lets describe the original model_year\n"
   ]
  },
  {
   "cell_type": "code",
   "execution_count": null,
   "id": "344db3a3-7bac-4d29-898a-b58a346a8e3a",
   "metadata": {},
   "outputs": [],
   "source": [
    "# Lets describe the original model_year in transpose to get more details in the column\n"
   ]
  },
  {
   "cell_type": "code",
   "execution_count": null,
   "id": "7b51a004-e71f-4189-a380-c29ad5a62617",
   "metadata": {},
   "outputs": [],
   "source": [
    "# Multi group modeling - check first first 2 columns for joining this column\n"
   ]
  },
  {
   "cell_type": "markdown",
   "id": "1a548e4b-df48-43c7-881e-826f1a259c5d",
   "metadata": {},
   "source": [
    "## 6. Combining DataFrames"
   ]
  },
  {
   "cell_type": "markdown",
   "id": "b2338d87-a3b9-4bb3-8090-d11685a61c10",
   "metadata": {},
   "source": [
    "### 6.1 Concatentation"
   ]
  },
  {
   "cell_type": "code",
   "execution_count": null,
   "id": "0d65b3a2-db44-476f-a7f6-7b51e0417d8f",
   "metadata": {},
   "outputs": [],
   "source": [
    "data_one = {'A': ['A0', 'A1', 'A2', 'A3'],'B': ['B0', 'B1', 'B2', 'B3']}"
   ]
  },
  {
   "cell_type": "code",
   "execution_count": null,
   "id": "c10c3faa-fe0c-4369-ac0f-2c98bdb0784f",
   "metadata": {},
   "outputs": [],
   "source": [
    "data_two =s {'C': ['C0', 'C1', 'C2', 'C3'], 'D': ['D0', 'D1', 'D2', 'D3']}"
   ]
  },
  {
   "cell_type": "code",
   "execution_count": null,
   "id": "bc92e6b0-3002-4c53-9227-08cce3806e22",
   "metadata": {},
   "outputs": [],
   "source": [
    "#Convert dicontary to dataframes\n",
    "\n"
   ]
  },
  {
   "cell_type": "code",
   "execution_count": null,
   "id": "1d95295b-5808-42bc-a5f4-ab6956f277ae",
   "metadata": {},
   "outputs": [],
   "source": [
    "#inspect one\n"
   ]
  },
  {
   "cell_type": "code",
   "execution_count": null,
   "id": "c6714711-0fc0-4568-9b90-aa507315c1fd",
   "metadata": {},
   "outputs": [],
   "source": [
    "#inspect one\n"
   ]
  },
  {
   "cell_type": "code",
   "execution_count": null,
   "id": "3672525c-d12f-44fb-ac93-437f25809334",
   "metadata": {},
   "outputs": [],
   "source": [
    "# Concatenate one and two along the y-axis\n"
   ]
  },
  {
   "cell_type": "code",
   "execution_count": null,
   "id": "a74527a6-0e6b-478a-8c5e-2f76c223813a",
   "metadata": {},
   "outputs": [],
   "source": [
    "# Concatenate one and two along the x-axis\n"
   ]
  },
  {
   "cell_type": "markdown",
   "id": "b5c220b2-e6ac-4662-b1aa-685ccddddefb",
   "metadata": {},
   "source": [
    "### 6.2 Merging Tables"
   ]
  },
  {
   "cell_type": "code",
   "execution_count": null,
   "id": "d5baf87c-e487-4545-81a6-c97cad0631c9",
   "metadata": {},
   "outputs": [],
   "source": [
    "# Merging dataframes\n",
    "\n",
    "registrations = pd.DataFrame({'reg_id':[1,2,3,4],'name':['Andrew','Bobo','Claire','David']})\n",
    "logins = pd.DataFrame({'log_id':[1,2,3,4],'name':['Xavier','Andrew','Yolanda','Bobo']})"
   ]
  },
  {
   "cell_type": "code",
   "execution_count": null,
   "id": "212f868d-4b21-42a1-95ba-22480033eb84",
   "metadata": {},
   "outputs": [],
   "source": [
    "# Notice how Andrew and Bobo exists in both\n"
   ]
  },
  {
   "cell_type": "code",
   "execution_count": null,
   "id": "e89a70f1-e879-4bdf-9098-7175c8342fde",
   "metadata": {},
   "outputs": [],
   "source": []
  },
  {
   "cell_type": "code",
   "execution_count": null,
   "id": "560be2fc-39c8-49b7-8bb1-8992603007b2",
   "metadata": {},
   "outputs": [],
   "source": [
    "# Perform an inner join on dataframes\n"
   ]
  },
  {
   "cell_type": "code",
   "execution_count": null,
   "id": "d2856c65-3e9d-4b4b-adbf-c8c45ffc32c5",
   "metadata": {},
   "outputs": [],
   "source": [
    "# Perform a left join\n"
   ]
  },
  {
   "cell_type": "code",
   "execution_count": null,
   "id": "cc8ab76f-f54a-427a-826e-c562813ca4e8",
   "metadata": {},
   "outputs": [],
   "source": [
    "# perform right join\n"
   ]
  },
  {
   "cell_type": "code",
   "execution_count": null,
   "id": "08137d7b-9611-4016-8ead-5bc0f9ba2929",
   "metadata": {},
   "outputs": [],
   "source": [
    "# perform out join\n"
   ]
  },
  {
   "cell_type": "markdown",
   "id": "c4d8f8ee-eb0b-4baa-9221-fd0f61e76d34",
   "metadata": {},
   "source": [
    "## 7. Text Methods"
   ]
  },
  {
   "cell_type": "code",
   "execution_count": null,
   "id": "1ff8619b-75ca-4a56-abd3-f7f5eabe0dc7",
   "metadata": {},
   "outputs": [],
   "source": [
    "mystring = 'hello'"
   ]
  },
  {
   "cell_type": "code",
   "execution_count": null,
   "id": "1340ea42-224b-49d5-a59d-ac33b89a90de",
   "metadata": {},
   "outputs": [],
   "source": [
    "# capitize\n"
   ]
  },
  {
   "cell_type": "code",
   "execution_count": null,
   "id": "f8716eed-39f2-4e3b-a123-d70897813bee",
   "metadata": {},
   "outputs": [],
   "source": [
    "# check if capitilized\n"
   ]
  },
  {
   "cell_type": "markdown",
   "id": "842c8cf4-314f-40c6-a5ad-e97d7cf33cb3",
   "metadata": {},
   "source": [
    "### 7.1 Text Methods"
   ]
  },
  {
   "cell_type": "code",
   "execution_count": null,
   "id": "672a107b-2d23-4641-9aed-fdfbb72da0f2",
   "metadata": {},
   "outputs": [],
   "source": [
    "names = pd.Series(['andrew','bobo','claire','david','4'])"
   ]
  },
  {
   "cell_type": "code",
   "execution_count": null,
   "id": "9988fefc-080b-4c8f-93f8-349daa486b75",
   "metadata": {},
   "outputs": [],
   "source": [
    "# check capitalize on series\n"
   ]
  },
  {
   "cell_type": "code",
   "execution_count": null,
   "id": "a75865f6-092e-4611-b772-0ff83ace001b",
   "metadata": {},
   "outputs": [],
   "source": [
    "# check isdigit on series\n"
   ]
  },
  {
   "cell_type": "markdown",
   "id": "f6eb47cc-b582-4b74-94bd-61374129a5a5",
   "metadata": {},
   "source": [
    "### 7.2 Splitting and manipulating text"
   ]
  },
  {
   "cell_type": "code",
   "execution_count": null,
   "id": "736ae0f8-f9b3-4e75-be6b-5fd28e6bc506",
   "metadata": {},
   "outputs": [],
   "source": [
    "# Example\n",
    "tech_finance = ['GOOG,APPL,AMZN','JPM,BAC,GS']"
   ]
  },
  {
   "cell_type": "code",
   "execution_count": null,
   "id": "3c190823-bf63-40be-8d9c-f718dc9b2db3",
   "metadata": {},
   "outputs": [],
   "source": [
    "# Get the length of the text\n"
   ]
  },
  {
   "cell_type": "code",
   "execution_count": null,
   "id": "42a5d25e-d798-46a9-b6f7-f96ed047067d",
   "metadata": {},
   "outputs": [],
   "source": [
    "# Convert to a series\n"
   ]
  },
  {
   "cell_type": "code",
   "execution_count": null,
   "id": "9d6f549b-5a58-4398-8c6b-deb65795c2a0",
   "metadata": {},
   "outputs": [],
   "source": [
    "# Check tickers\n"
   ]
  },
  {
   "cell_type": "code",
   "execution_count": null,
   "id": "6270c7c3-756c-4e06-9a63-c7a94abd345d",
   "metadata": {},
   "outputs": [],
   "source": [
    "# Split on the comma \",\"\n"
   ]
  },
  {
   "cell_type": "code",
   "execution_count": null,
   "id": "4aa8b902-d7a3-4e96-b257-db9d674219db",
   "metadata": {},
   "outputs": [],
   "source": [
    "# split on the comma and show me the first variable\n"
   ]
  },
  {
   "cell_type": "code",
   "execution_count": null,
   "id": "b414434c-800d-405a-8bc9-12e34323ad13",
   "metadata": {},
   "outputs": [],
   "source": [
    "# Split on the comma nad expand each variable to own of its column\n"
   ]
  },
  {
   "cell_type": "markdown",
   "id": "5bd990e0-cf3f-4ef1-acdd-46fe6159be1f",
   "metadata": {},
   "source": [
    "### 7.3 Cleaning or Editing Strings"
   ]
  },
  {
   "cell_type": "code",
   "execution_count": null,
   "id": "a9141585-11d9-4db2-918d-f94d8bf96956",
   "metadata": {},
   "outputs": [],
   "source": [
    "messy_names = pd.Series([\"andrew  \",\"bo;bo\",\"  claire  \"])"
   ]
  },
  {
   "cell_type": "code",
   "execution_count": null,
   "id": "0bc1fc13-e7dd-401b-8274-c2853d10d736",
   "metadata": {},
   "outputs": [],
   "source": []
  },
  {
   "cell_type": "code",
   "execution_count": null,
   "id": "37abf415-642c-46fe-92ee-1324c35240dc",
   "metadata": {},
   "outputs": [],
   "source": [
    "# Remove \";\"\n"
   ]
  },
  {
   "cell_type": "code",
   "execution_count": null,
   "id": "6d856d04-ce4a-447c-8a24-ab30cd84f70e",
   "metadata": {},
   "outputs": [],
   "source": [
    "# Remove spaces\n"
   ]
  },
  {
   "cell_type": "code",
   "execution_count": null,
   "id": "492b2086-2f41-4a8f-848f-40cc7ee9bf0a",
   "metadata": {},
   "outputs": [],
   "source": [
    "# Combine both methods on the top\n"
   ]
  },
  {
   "cell_type": "code",
   "execution_count": null,
   "id": "f5370589-ab82-4dab-9dd4-07b357e9cb64",
   "metadata": {},
   "outputs": [],
   "source": [
    "# Clean text fully\n"
   ]
  },
  {
   "cell_type": "markdown",
   "id": "c4cd6659-0ffe-4f4a-8d1f-3a398c17abbd",
   "metadata": {},
   "source": [
    "## 8. Mini-Project"
   ]
  },
  {
   "cell_type": "markdown",
   "id": "7f25e3fb-3e48-4f24-95e9-1bd72bb19975",
   "metadata": {},
   "source": [
    "\n",
    "This data set contains booking information for a city hotel and a resort hotel, and includes information such as when the booking was made, length of stay, the number of adults, children, and/or babies, and the number of available parking spaces, among other things.\n",
    "\n",
    "All personally identifying information has been removed from the data.\n",
    "\n",
    "Acknowledgements\n",
    "The data is originally from the article Hotel Booking Demand Datasets, written by Nuno Antonio, Ana Almeida, and Luis Nunes for Data in Brief, Volume 22, February 2019.\n",
    "\n",
    "\n",
    "----------------------------\n",
    "NOTE: Names, Emails, Phone Numbers, and Credit Card numbers in the data are synthetic and not real information from people. The hotel data is real from the publication listed above."
   ]
  },
  {
   "cell_type": "code",
   "execution_count": null,
   "id": "d844a3b9-0398-4064-8298-1a7b596febfa",
   "metadata": {},
   "outputs": [],
   "source": [
    "# Input data from file\n",
    "import pandas as pd\n",
    "hotels = pd.read_csv(\"hotel_booking_data.csv\")"
   ]
  },
  {
   "cell_type": "code",
   "execution_count": null,
   "id": "caff7dd6-bda8-4a9c-b043-63af5ec94cbc",
   "metadata": {},
   "outputs": [],
   "source": [
    "# Get a feel of the data\n",
    "hotels.head()"
   ]
  },
  {
   "cell_type": "markdown",
   "id": "d9ec85f6-84b6-4237-8f61-26d3862f8341",
   "metadata": {},
   "source": [
    "### 9.1 How many rows are there?"
   ]
  },
  {
   "cell_type": "code",
   "execution_count": null,
   "id": "4b3ee172-932b-4304-8160-7949dbb2d5a8",
   "metadata": {},
   "outputs": [],
   "source": []
  },
  {
   "cell_type": "markdown",
   "id": "965a2000-08b6-46d9-a77c-d9b3bb134d93",
   "metadata": {},
   "source": [
    "### 9.2 Is there any missing data? If so, which column has the most missing data?"
   ]
  },
  {
   "cell_type": "code",
   "execution_count": null,
   "id": "9a95cb7a-dec0-4953-a647-b9ecec5e1fa6",
   "metadata": {},
   "outputs": [],
   "source": []
  },
  {
   "cell_type": "markdown",
   "id": "f20718c5-6877-465f-84a3-6fd419d26208",
   "metadata": {},
   "source": [
    "### 9.3 Drop the \"company\" column from the dataset."
   ]
  },
  {
   "cell_type": "code",
   "execution_count": null,
   "id": "0d78fd16-325f-4509-9292-3b6390f31f93",
   "metadata": {},
   "outputs": [],
   "source": []
  },
  {
   "cell_type": "markdown",
   "id": "7bdf83a1-6805-4c40-9409-17b2b7bd9526",
   "metadata": {},
   "source": [
    "### 9.4 What are the top 5 most common country codes in the dataset?"
   ]
  },
  {
   "cell_type": "code",
   "execution_count": null,
   "id": "c6285f88-15c8-4b22-906a-488f42267264",
   "metadata": {},
   "outputs": [],
   "source": []
  },
  {
   "cell_type": "markdown",
   "id": "4c471eaf-8e36-4fb6-85e3-c6a72a4e4978",
   "metadata": {},
   "source": [
    "### 9.5 What is the name of the person who paid the highest ADR (average daily rate)? How much was their ADR?"
   ]
  },
  {
   "cell_type": "code",
   "execution_count": null,
   "id": "5caf1eef-ba4e-48ee-b68f-43a3076bf872",
   "metadata": {},
   "outputs": [],
   "source": []
  },
  {
   "cell_type": "markdown",
   "id": "45adffb9-7dd9-4e64-9cb0-e53721dc2f7e",
   "metadata": {},
   "source": [
    "### 9.6 The adr is the average daily rate for a person's stay at the hotel. What is the mean adr across all the hotel stays in the dataset?**"
   ]
  },
  {
   "cell_type": "code",
   "execution_count": null,
   "id": "bd93d0bd-df17-4262-b106-a7dc032d4089",
   "metadata": {},
   "outputs": [],
   "source": []
  },
  {
   "cell_type": "markdown",
   "id": "9e440f43-9d4e-4384-bf99-0040ea36e166",
   "metadata": {},
   "source": [
    "### 9.7 What is the average (mean) number of nights for a stay across the entire data set? Feel free to round this to 2 decimal points."
   ]
  },
  {
   "cell_type": "code",
   "execution_count": null,
   "id": "ec89a4fa-5110-47ee-ad53-baf709eddee1",
   "metadata": {},
   "outputs": [],
   "source": []
  },
  {
   "cell_type": "markdown",
   "id": "74aec0cc-4caf-458e-8366-7ccb34ae0b21",
   "metadata": {},
   "source": [
    "### 9.8 What is the average total cost for a stay in the dataset? Not *average daily cost*, but *total* stay cost. (You will need to calculate total cost your self by using ADR and week day and weeknight stays). Feel free to round this to 2 decimal points."
   ]
  },
  {
   "cell_type": "code",
   "execution_count": null,
   "id": "72d461e7-ff32-4115-9a76-33a3b2165b6c",
   "metadata": {},
   "outputs": [],
   "source": []
  },
  {
   "cell_type": "markdown",
   "id": "7dfd9cfd-55a5-4ad3-9203-acf7bc8a8537",
   "metadata": {},
   "source": [
    "### 9.9 What are the names and emails of people who made exactly 5 \"Special Requests\"?"
   ]
  },
  {
   "cell_type": "code",
   "execution_count": null,
   "id": "0368d89a-9ac7-43c2-b2fc-d9afe7f6fb8f",
   "metadata": {},
   "outputs": [],
   "source": []
  },
  {
   "cell_type": "markdown",
   "id": "719442b6-8610-48cc-bb95-91ef30bd00ca",
   "metadata": {},
   "source": [
    "### 9.10 What percentage of hotel stays were classified as \"repeat guests\"? (Do not base this off the name of the person, but instead of the is_repeated_guest column)"
   ]
  },
  {
   "cell_type": "code",
   "execution_count": null,
   "id": "6a133569-18ac-47d5-9462-c919ddca461d",
   "metadata": {},
   "outputs": [],
   "source": []
  },
  {
   "cell_type": "markdown",
   "id": "5de4cf06-f461-4845-a325-e0d083e70b68",
   "metadata": {},
   "source": [
    "### 9.11 What are the top 5 most common last name in the dataset? Bonus: Can you figure this out in one line of pandas code? (For simplicity treat the a title such as MD as a last name, for example Caroline Conley MD can be said to have the last name MD)"
   ]
  },
  {
   "cell_type": "code",
   "execution_count": null,
   "id": "9724cb59-1e63-4dc7-980e-9d665bab617c",
   "metadata": {},
   "outputs": [],
   "source": []
  },
  {
   "cell_type": "markdown",
   "id": "28ffebe8-1426-42b6-b7fc-8503d6f51435",
   "metadata": {},
   "source": [
    "### 9.12 What are the names of the people who had booked the most number children and babies for their stay? (Don't worry if they canceled, only consider number of people reported at the time of their reservation)"
   ]
  },
  {
   "cell_type": "code",
   "execution_count": null,
   "id": "3a2152e1-dcf4-4d4f-a953-8d5cd9b3dd52",
   "metadata": {},
   "outputs": [],
   "source": []
  },
  {
   "cell_type": "markdown",
   "id": "c426cd56-b8c5-45ee-8eb7-18a169f3c07f",
   "metadata": {},
   "source": [
    "### 9.13 What are the top 3 most common area code in the phone numbers? (Area code is first 3 digits)"
   ]
  },
  {
   "cell_type": "code",
   "execution_count": null,
   "id": "2c61b011-53d7-47c2-b81b-117a91d7ccfd",
   "metadata": {},
   "outputs": [],
   "source": []
  },
  {
   "cell_type": "markdown",
   "id": "79c99d93-46fb-475c-9e70-b95f65b1ed63",
   "metadata": {},
   "source": [
    "### 9.14 How many arrivals took place between the 1st and the 15th of the month (inclusive of 1 and 15) ? Bonus: Can you do this in one line of pandas code?"
   ]
  },
  {
   "cell_type": "code",
   "execution_count": null,
   "id": "5253e4d9-2f16-447a-a8c9-3779c6264be6",
   "metadata": {},
   "outputs": [],
   "source": []
  }
 ],
 "metadata": {
  "kernelspec": {
   "display_name": "Python 3 (ipykernel)",
   "language": "python",
   "name": "python3"
  },
  "language_info": {
   "codemirror_mode": {
    "name": "ipython",
    "version": 3
   },
   "file_extension": ".py",
   "mimetype": "text/x-python",
   "name": "python",
   "nbconvert_exporter": "python",
   "pygments_lexer": "ipython3",
   "version": "3.9.10"
  },
  "toc-autonumbering": false,
  "toc-showcode": false,
  "toc-showmarkdowntxt": false
 },
 "nbformat": 4,
 "nbformat_minor": 5
}
