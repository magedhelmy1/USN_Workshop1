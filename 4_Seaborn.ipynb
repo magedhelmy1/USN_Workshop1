{
 "cells": [
  {
   "cell_type": "markdown",
   "id": "10c1779e-6a31-4d94-9720-67ad78be5e2a",
   "metadata": {},
   "source": [
    "# 1. Seaborn\n",
    "\n",
    "----\n",
    "## 1.1 Seaborn Basics"
   ]
  },
  {
   "cell_type": "code",
   "execution_count": null,
   "id": "a3f7a786-62a3-46c2-ad58-df5ad9a266c4",
   "metadata": {},
   "outputs": [],
   "source": []
  }
 ],
 "metadata": {
  "kernelspec": {
   "display_name": "Python 3 (ipykernel)",
   "language": "python",
   "name": "python3"
  },
  "language_info": {
   "codemirror_mode": {
    "name": "ipython",
    "version": 3
   },
   "file_extension": ".py",
   "mimetype": "text/x-python",
   "name": "python",
   "nbconvert_exporter": "python",
   "pygments_lexer": "ipython3",
   "version": "3.8.12"
  }
 },
 "nbformat": 4,
 "nbformat_minor": 5
}
