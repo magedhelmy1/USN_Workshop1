{
 "cells": [
  {
   "cell_type": "markdown",
   "id": "b385f32f-4d2e-4e8e-8962-4115c75ceed6",
   "metadata": {},
   "source": [
    "# 1. MATPLOTLIB\n",
    "\n",
    "----\n",
    "## 1.1 Matplotlib Basics"
   ]
  },
  {
   "cell_type": "code",
   "execution_count": null,
   "id": "7e12defb-f588-4282-b54a-4875cfcfbfb9",
   "metadata": {},
   "outputs": [],
   "source": []
  }
 ],
 "metadata": {
  "kernelspec": {
   "display_name": "Python 3 (ipykernel)",
   "language": "python",
   "name": "python3"
  },
  "language_info": {
   "codemirror_mode": {
    "name": "ipython",
    "version": 3
   },
   "file_extension": ".py",
   "mimetype": "text/x-python",
   "name": "python",
   "nbconvert_exporter": "python",
   "pygments_lexer": "ipython3",
   "version": "3.8.12"
  }
 },
 "nbformat": 4,
 "nbformat_minor": 5
}
